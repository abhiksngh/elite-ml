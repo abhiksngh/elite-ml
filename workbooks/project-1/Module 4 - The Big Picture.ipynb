{
 "cells": [
  {
   "cell_type": "markdown",
   "metadata": {
    "collapsed": true
   },
   "source": [
    "<h1 style=\"font-size:42px; text-align:center; margin-bottom:30px;\"><span style=\"color:SteelBlue\">Module 4:</span> The Big Picture</h1>\n",
    "<hr>\n",
    "Welcome to the **Companion Workbook** for <span style=\"color:royalblue\">Module 4: The Big Picture</span>.\n",
    "\n",
    "\n",
    "### Instructions\n",
    "\n",
    "As you go through the online lessons, follow along here to run the lesson code for yourself. We recommend reading the lesson first, then completing its accompanying section in the workbook.\n",
    "\n",
    "While there are no exercises in this module, we strongly recommend recreating the lesson code and playing around with it.\n",
    "\n",
    "<br><hr id=\"toc\">\n",
    "\n",
    "### Table of Contents\n",
    "\n",
    "1. [Model complexity](#complexity)\n",
    "* [Toy example: noisy sine wave](#sine)\n",
    "* [Mean model](#mean)\n",
    "* [Linear regression](#linear)\n",
    "* [Polynomial linear regression](#polynomial)\n",
    "* [Decision trees](#tree)\n",
    "\n",
    "**Tip:** Each section builds on the previous ones.\n",
    "\n",
    "<br><hr>"
   ]
  },
  {
   "cell_type": "markdown",
   "metadata": {},
   "source": [
    "<br>\n",
    "### First, let's import the libraries we'll need.\n",
    "\n",
    "Before we do anything else, let's import the <code style=\"color:steelblue\">print()</code> function from the future to ensure our code is compatible with Python 3."
   ]
  },
  {
   "cell_type": "code",
   "execution_count": 1,
   "metadata": {},
   "outputs": [
    {
     "name": "stdout",
     "output_type": "stream",
     "text": [
      "Print function ready to serve.\n"
     ]
    }
   ],
   "source": [
    "from __future__ import print_function  # Compatability with Python 3\n",
    "print( 'Print function ready to serve.' )"
   ]
  },
  {
   "cell_type": "markdown",
   "metadata": {},
   "source": [
    "Next, let's import Pandas and NumPy."
   ]
  },
  {
   "cell_type": "code",
   "execution_count": 3,
   "metadata": {},
   "outputs": [],
   "source": [
    "import numpy as np\n",
    "import pandas as pd"
   ]
  },
  {
   "cell_type": "markdown",
   "metadata": {},
   "source": [
    "Finally, let's import our **data visualization** libraries.\n",
    "* <code style=\"color:steelblue\">matplotlib</code> is a flexible and powerful tool for visualizing data.\n",
    "    * From it, we import the <code style=\"color:steelblue\">pyplot</code> submodule and give it the alias <code style=\"color:steelblue\">plt</code>.\n",
    "* <code style=\"color:steelblue\">%matplotlib inline</code> tells Jupyter Notebook to plot the charts inside this notebook directly.\n",
    "* <code style=\"color:steelblue\">seaborn</code> provides convenient wrappers on top of matplotlib. It also provides nice styles and themes for our charts.\n",
    "    * We give it the alias <code style=\"color:steelblue\">sns</code>"
   ]
  },
  {
   "cell_type": "code",
   "execution_count": 4,
   "metadata": {},
   "outputs": [],
   "source": [
    "from matplotlib import pyplot as plt\n",
    "%matplotlib inline\n",
    "\n",
    "import seaborn as sns"
   ]
  },
  {
   "cell_type": "markdown",
   "metadata": {},
   "source": [
    "This is the first time we'll use these libraries, so this module will also be a gentle introduction to plotting."
   ]
  },
  {
   "cell_type": "markdown",
   "metadata": {},
   "source": [
    "<br id=\"complexity\">\n",
    "# 1. Model complexity\n",
    "\n",
    "No code to run. "
   ]
  },
  {
   "cell_type": "markdown",
   "metadata": {},
   "source": [
    "<br id=\"sine\">\n",
    "# 2. - Toy example: noisy sine wave\n",
    "\n",
    "For the rest of this module, we're going to switch over to a toy example.\n",
    "* Remember, the relevant code is all included in the online lesson."
   ]
  },
  {
   "cell_type": "markdown",
   "metadata": {},
   "source": [
    "First, create the dataset for the noisy sine wave:"
   ]
  },
  {
   "cell_type": "code",
   "execution_count": 14,
   "metadata": {},
   "outputs": [],
   "source": [
    "# input feature\n",
    "x = np.linspace(0, 2 * np.pi, 100)\n",
    "\n",
    "# noise\n",
    "np.random.seed(321)\n",
    "noise = np.random.normal(0, .5, 100)\n",
    "\n",
    "# target variable\n",
    "y = np.sin(x) + noise"
   ]
  },
  {
   "cell_type": "markdown",
   "metadata": {},
   "source": [
    "For convenience, let's throw $x$ and $y$ into a Pandas DataFrame."
   ]
  },
  {
   "cell_type": "code",
   "execution_count": 15,
   "metadata": {},
   "outputs": [
    {
     "data": {
      "text/html": [
       "<div>\n",
       "<style scoped>\n",
       "    .dataframe tbody tr th:only-of-type {\n",
       "        vertical-align: middle;\n",
       "    }\n",
       "\n",
       "    .dataframe tbody tr th {\n",
       "        vertical-align: top;\n",
       "    }\n",
       "\n",
       "    .dataframe thead th {\n",
       "        text-align: right;\n",
       "    }\n",
       "</style>\n",
       "<table border=\"1\" class=\"dataframe\">\n",
       "  <thead>\n",
       "    <tr style=\"text-align: right;\">\n",
       "      <th></th>\n",
       "      <th>x</th>\n",
       "      <th>y</th>\n",
       "    </tr>\n",
       "  </thead>\n",
       "  <tbody>\n",
       "    <tr>\n",
       "      <th>0</th>\n",
       "      <td>0.000000</td>\n",
       "      <td>0.086260</td>\n",
       "    </tr>\n",
       "    <tr>\n",
       "      <th>1</th>\n",
       "      <td>0.063467</td>\n",
       "      <td>0.881165</td>\n",
       "    </tr>\n",
       "    <tr>\n",
       "      <th>2</th>\n",
       "      <td>0.126933</td>\n",
       "      <td>0.145261</td>\n",
       "    </tr>\n",
       "    <tr>\n",
       "      <th>3</th>\n",
       "      <td>0.190400</td>\n",
       "      <td>-0.252824</td>\n",
       "    </tr>\n",
       "    <tr>\n",
       "      <th>4</th>\n",
       "      <td>0.253866</td>\n",
       "      <td>-0.320448</td>\n",
       "    </tr>\n",
       "  </tbody>\n",
       "</table>\n",
       "</div>"
      ],
      "text/plain": [
       "          x         y\n",
       "0  0.000000  0.086260\n",
       "1  0.063467  0.881165\n",
       "2  0.126933  0.145261\n",
       "3  0.190400 -0.252824\n",
       "4  0.253866 -0.320448"
      ]
     },
     "execution_count": 15,
     "metadata": {},
     "output_type": "execute_result"
    }
   ],
   "source": [
    "# Create DataFrame with x and y\n",
    "df = pd.DataFrame({\"x\": x, \"y\": y})\n",
    "df.head()"
   ]
  },
  {
   "cell_type": "markdown",
   "metadata": {},
   "source": [
    "Before moving on, let's plot that dataset first. "
   ]
  },
  {
   "cell_type": "code",
   "execution_count": 16,
   "metadata": {},
   "outputs": [
    {
     "data": {
      "text/plain": [
       "[<matplotlib.lines.Line2D at 0x14b3b991470>]"
      ]
     },
     "execution_count": 16,
     "metadata": {},
     "output_type": "execute_result"
    },
    {
     "data": {
      "image/png": "[encoded data removed]",
      "text/plain": [
       "<matplotlib.figure.Figure at 0x14b3b991668>"
      ]
     },
     "metadata": {},
     "output_type": "display_data"
    }
   ],
   "source": [
    "# Scatterplot of x and y\n",
    "plt.scatter(df.x, df.y)\n",
    "\n",
    "# Overlay the sine wave\n",
    "plt.plot(df.x, np.sin(df.x), color='k')"
   ]
  },
  {
   "cell_type": "markdown",
   "metadata": {},
   "source": [
    "<div style=\"text-align:center; margin: 40px 0 40px 0;\">\n",
    "[**Back to Contents**](#toc)\n",
    "</div>"
   ]
  },
  {
   "cell_type": "markdown",
   "metadata": {},
   "source": [
    "<br id=\"mean\">\n",
    "# 3 -  Mean model\n",
    "\n",
    "Now it's time to start building some models. Let's start with a **very simple** model. "
   ]
  },
  {
   "cell_type": "markdown",
   "metadata": {},
   "source": [
    "Build the mean model with 1 line of code."
   ]
  },
  {
   "cell_type": "code",
   "execution_count": 17,
   "metadata": {},
   "outputs": [],
   "source": [
    "# Build model\n",
    "pred = np.mean(df.y)"
   ]
  },
  {
   "cell_type": "markdown",
   "metadata": {},
   "source": [
    "Print the prediction, for any value of x."
   ]
  },
  {
   "cell_type": "code",
   "execution_count": 18,
   "metadata": {},
   "outputs": [
    {
     "name": "stdout",
     "output_type": "stream",
     "text": [
      "-0.017254917297324927\n"
     ]
    }
   ],
   "source": [
    "# Display predictions for any value of x\n",
    "print(pred)"
   ]
  },
  {
   "cell_type": "markdown",
   "metadata": {},
   "source": [
    "Let's see how that model \"fits\" the training data.\n",
    "* First, we will use <code style=\"color:steelblue\">plt.scatter()</code> again to plot the dataset.\n",
    "* Then, we will use <code style=\"color:steelblue\">plt.plot()</code> again, but this time print the predictions from our <span style=\"color:royalblue;\">mean model</span> as a dotted black line."
   ]
  },
  {
   "cell_type": "code",
   "execution_count": 19,
   "metadata": {},
   "outputs": [
    {
     "data": {
      "text/plain": [
       "[<matplotlib.lines.Line2D at 0x14b3b9ac860>]"
      ]
     },
     "execution_count": 19,
     "metadata": {},
     "output_type": "execute_result"
    },
    {
     "data": {
      "image/png": "[encoded data removed]",
      "text/plain": [
       "<matplotlib.figure.Figure at 0x14b3b9ba4a8>"
      ]
     },
     "metadata": {},
     "output_type": "display_data"
    }
   ],
   "source": [
    "# Scatterplot of x and y\n",
    "plt.scatter(x, y)\n",
    "\n",
    "# Overlay horizontal line for the prediction\n",
    "plt.plot(x, [pred] * len(df.x), 'k--')"
   ]
  },
  {
   "cell_type": "markdown",
   "metadata": {},
   "source": [
    "<div style=\"text-align:center; margin: 40px 0 40px 0;\">\n",
    "[**Back to Contents**](#toc)\n",
    "</div>"
   ]
  },
  {
   "cell_type": "markdown",
   "metadata": {},
   "source": [
    "<br id=\"linear\">\n",
    "# 4. Linear regression\n",
    "\n",
    "Next, let's introduce linear regression. "
   ]
  },
  {
   "cell_type": "markdown",
   "metadata": {},
   "source": [
    "First, let's import <code style=\"color:steelblue\">LinearRegression</code> from Scikit-Learn. \n",
    "* Scikit-Learn comes with implementations of many popular model types.\n",
    "* We'll explore many of them throughout the course."
   ]
  },
  {
   "cell_type": "code",
   "execution_count": 21,
   "metadata": {},
   "outputs": [],
   "source": [
    "# Import LinearRegression from Scikit-Learn\n",
    "from sklearn.linear_model import LinearRegression"
   ]
  },
  {
   "cell_type": "markdown",
   "metadata": {},
   "source": [
    "Next, let's build a linear model for our example dataset."
   ]
  },
  {
   "cell_type": "code",
   "execution_count": 23,
   "metadata": {},
   "outputs": [
    {
     "data": {
      "text/plain": [
       "LinearRegression(copy_X=True, fit_intercept=True, n_jobs=1, normalize=False)"
      ]
     },
     "execution_count": 23,
     "metadata": {},
     "output_type": "execute_result"
    }
   ],
   "source": [
    "# Initialize instance of linear regression\n",
    "lm = LinearRegression()\n",
    "\n",
    "# Separate our input features and target variable\n",
    "features = df.drop('y', axis=1)\n",
    "target = df.y\n",
    "\n",
    "# Fit model to the data\n",
    "lm.fit(features, target)"
   ]
  },
  {
   "cell_type": "markdown",
   "metadata": {},
   "source": [
    "Let's display the intercept ($\\beta_0$) and coefficient ($\\beta_1$) that were estimated from the dataset. "
   ]
  },
  {
   "cell_type": "code",
   "execution_count": 24,
   "metadata": {},
   "outputs": [
    {
     "name": "stdout",
     "output_type": "stream",
     "text": [
      "0.8238675120273314\n",
      "[-0.26773758]\n"
     ]
    }
   ],
   "source": [
    "# Print intercept and coefficient\n",
    "print(lm.intercept_)\n",
    "print(lm.coef_)"
   ]
  },
  {
   "cell_type": "markdown",
   "metadata": {},
   "source": [
    "Finally, let's plot that line.\n",
    "* Note that we are passing in the predicted values of $y$, or <code style=\"color:steelblue\">lm.predict(features)</code>, as the second argument into <code style=\"color:steelblue\">plt.plot()</code>."
   ]
  },
  {
   "cell_type": "code",
   "execution_count": null,
   "metadata": {},
   "outputs": [],
   "source": [
    "# Plot original points\n",
    "\n",
    "\n",
    "# Plot predicted values of y\n",
    "\n"
   ]
  },
  {
   "cell_type": "markdown",
   "metadata": {},
   "source": [
    "<div style=\"text-align:center; margin: 40px 0 40px 0;\">\n",
    "[**Back to Contents**](#toc)\n",
    "</div>"
   ]
  },
  {
   "cell_type": "markdown",
   "metadata": {},
   "source": [
    "<br id=\"polynomial\">\n",
    "# 5 - Polynomial linear regression\n",
    "\n",
    "Next, we'll take a look at polynomial linear regression."
   ]
  },
  {
   "cell_type": "markdown",
   "metadata": {},
   "source": [
    "Let's quickly write a couple helper functions that will make building these models easier.\n",
    "\n",
    "First, we'll write a <code style=\"color:steelblue\">fit_and_plot_fitted_model()</code> function that performs exactly what we did for the <span style=\"color:royalblue\">linear regression</span> earlier, except for any model and any set of features.\n",
    "* Splits input features from target variable\n",
    "* Fits the model\n",
    "* Plots the dataset\n",
    "* Overlays the predicted values for $y$"
   ]
  },
  {
   "cell_type": "code",
   "execution_count": null,
   "metadata": {
    "collapsed": true
   },
   "outputs": [],
   "source": [
    "# fit_and plot_model function\n"
   ]
  },
  {
   "cell_type": "markdown",
   "metadata": {},
   "source": [
    "Then, we'll write a <code style=\"color:steelblue\">fit_polynomial_model()</code> function that creates powers of $x$ up to a maximum polynomial (a.k.a. the \"order\" of the model).\n",
    "* If the \"order\" is 1, then we'll just fit and plot the model directly.\n",
    "* If the \"order\" is greater than 1, then we'll create the polynomial terms: $x^2$, $x^3$, etc."
   ]
  },
  {
   "cell_type": "code",
   "execution_count": null,
   "metadata": {
    "collapsed": true
   },
   "outputs": [],
   "source": [
    "# fit_and_plot_polynomial_model function\n"
   ]
  },
  {
   "cell_type": "markdown",
   "metadata": {},
   "source": [
    "Now, let's fit and plot the <span style=\"color:royalblue\">second-order polynomial linear regression using our helper functions:"
   ]
  },
  {
   "cell_type": "code",
   "execution_count": null,
   "metadata": {},
   "outputs": [],
   "source": [
    "# Fit and plot 2nd-order polynomial linear regression\n"
   ]
  },
  {
   "cell_type": "markdown",
   "metadata": {},
   "source": [
    "Let's fit and plot a <span style=\"color:royalblue\">third-order polynomial linear regression</span>:"
   ]
  },
  {
   "cell_type": "code",
   "execution_count": null,
   "metadata": {},
   "outputs": [],
   "source": [
    "# Fit and plot 3rd-order polynomial linear regression\n"
   ]
  },
  {
   "cell_type": "markdown",
   "metadata": {},
   "source": [
    "Now, just to illustrate a point, let's fit and plot a <span style=\"color:royalblue\">10th-order polynomial linear regression</span>:"
   ]
  },
  {
   "cell_type": "code",
   "execution_count": null,
   "metadata": {},
   "outputs": [],
   "source": [
    "# Fit and plot 10th-order polynomial linear regression\n"
   ]
  },
  {
   "cell_type": "markdown",
   "metadata": {},
   "source": [
    "<div style=\"text-align:center; margin: 40px 0 40px 0;\">\n",
    "[**Back to Contents**](#toc)\n",
    "</div>"
   ]
  },
  {
   "cell_type": "markdown",
   "metadata": {},
   "source": [
    "<br id=\"tree\">\n",
    "# 6. Decision trees\n",
    "\n",
    "Just for fun, let's see what happens when you crank model complexity way up."
   ]
  },
  {
   "cell_type": "markdown",
   "metadata": {},
   "source": [
    "First, let's import <code style=\"color:steelblue\">DecisionTreeRegressor</code> from Scikit-Learn."
   ]
  },
  {
   "cell_type": "code",
   "execution_count": null,
   "metadata": {
    "collapsed": true
   },
   "outputs": [],
   "source": [
    "# Import DecisionTreeRegressor\n"
   ]
  },
  {
   "cell_type": "markdown",
   "metadata": {},
   "source": [
    "Next, we can use our helper function, <code style=\"color:steelblue\">fit_and_plot_model()</code>, to fit and plot an **unconstrained** decision tree:"
   ]
  },
  {
   "cell_type": "code",
   "execution_count": null,
   "metadata": {},
   "outputs": [],
   "source": [
    "# fit and plot unconstrained decision tree\n"
   ]
  },
  {
   "cell_type": "markdown",
   "metadata": {},
   "source": [
    "<div style=\"text-align:center; margin: 40px 0 40px 0;\">\n",
    "[**Back to Contents**](#toc)\n",
    "</div>"
   ]
  },
  {
   "cell_type": "markdown",
   "metadata": {},
   "source": [
    "<br>\n",
    "## Next Steps\n",
    "\n",
    "First, a huge congrats on finishing the first project!\n",
    "\n",
    "\n",
    "Here are a few of things you did in this final module:\n",
    "* You learned about one of the most important concepts in machine learning: model complexity.\n",
    "* You generated an artificial dataset from a noisy sine wave.\n",
    "* You fit and plotted mean, linear regression, polynomial linear, and decision tree models.\n",
    "* And you compared their results against the \"true underlying relationship\" in the artificial dataset.\n",
    "\n",
    "In the next project, <span style=\"color:royalblue\">Project 2: Real-Estate Tycoon</span>, we will dive deeper into these concepts, plus many others. You will get to practice the entire **machine learning workflow** from end to end!\n",
    "\n",
    "<div style=\"text-align:center; margin: 40px 0 40px 0;\">\n",
    "[**Back to Contents**](#toc)\n",
    "</div>"
   ]
  }
 ],
 "metadata": {
  "anaconda-cloud": {},
  "kernelspec": {
   "display_name": "Python 3",
   "language": "python",
   "name": "python3"
  },
  "language_info": {
   "codemirror_mode": {
    "name": "ipython",
    "version": 3
   },
   "file_extension": ".py",
   "mimetype": "text/x-python",
   "name": "python",
   "nbconvert_exporter": "python",
   "pygments_lexer": "ipython3",
   "version": "3.6.4"
  }
 },
 "nbformat": 4,
 "nbformat_minor": 1
}
