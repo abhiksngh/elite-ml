{
 "cells": [
  {
   "cell_type": "markdown",
   "metadata": {},
   "source": [
    "<h1 style=\"font-size:42px; text-align:center; margin-bottom:30px;\"><span style=\"color:SteelBlue\">Module 3:</span> Principal Component Analysis</h1>\n",
    "<hr>\n",
    "\n",
    "Welcome to <span style=\"color:royalblue\">Module 3: Principal Component Analysis</span>!\n",
    "\n",
    "Principal Component Analysis, or PCA, is a popular dimensionality reduction technique.\n",
    "\n",
    "PCA seeks to create new features by finding linear combinations of your original ones. These new features, called **principal components**, are meant to maximize the **\"explained variance,\"** which we'll explain further in the module.\n",
    "\n",
    "* In this module, we'll prepare individual item features for our clustering algorithms, except this time we'll use PCA instead of thresholding.\n",
    "* PCA is especially effective when you have many correlated features.\n",
    "* Important: PCA creates new features that replace the original ones.\n",
    "\n",
    "\n",
    "<br><hr id=\"toc\">\n",
    "\n",
    "### In this module...\n",
    "\n",
    "In this module, we'll cover:\n",
    "1. [Toy example: oval blob](#oval-blob)\n",
    "2. [Principal components](#components)\n",
    "3. [Dimensionality reduction](#reduction)\n",
    "4. [Item data PCA](#item-data)\n",
    "5. [Explained variance](#explained-variance)\n",
    "\n",
    "<br><hr>"
   ]
  },
  {
   "cell_type": "markdown",
   "metadata": {},
   "source": [
    "### First, let's import libraries and load the item data.\n",
    "\n",
    "First, import libraries that you'll need."
   ]
  },
  {
   "cell_type": "code",
   "execution_count": 1,
   "metadata": {},
   "outputs": [
    {
     "name": "stdout",
     "output_type": "stream",
     "text": [
      "Hell yeah!\n"
     ]
    }
   ],
   "source": [
    "# print_function for compatibility with Python 3\n",
    "from __future__ import print_function\n",
    "print(\"Hell yeah!\")\n",
    "\n",
    "# NumPy for numerical computing\n",
    "import numpy as np\n",
    "\n",
    "# Pandas for DataFrames\n",
    "import pandas as pd\n",
    "\n",
    "# Matplotlib for visualization\n",
    "import matplotlib.pyplot as plt\n",
    "\n",
    "# display plots in the notebook\n",
    "%matplotlib inline\n",
    "\n",
    "# Seaborn for easier visualization\n",
    "import seaborn as sns\n",
    "\n",
    "# StandardScaler from Scikit-Learn\n",
    "from sklearn.preprocessing import StandardScaler\n",
    "\n",
    "# PCA from Scikit-Learn (added later)\n",
    "from sklearn.decomposition import PCA"
   ]
  },
  {
   "cell_type": "markdown",
   "metadata": {},
   "source": [
    "Next, let's import the full item data that we saved in the previous module (before applying thresholds).\n",
    "* Remember, we saved it as <code style=\"color:crimson\">'item_data.csv'</code>.\n",
    "* This time, we'll also pass in the argument <code style=\"color:steelblue\">index_col=0</code> to tell Pandas to treat the first column (CustomerID) as the index."
   ]
  },
  {
   "cell_type": "code",
   "execution_count": 2,
   "metadata": {},
   "outputs": [],
   "source": [
    "# Read item_data.csv\n",
    "df = pd.read_csv('project_files/item_data.csv', index_col=0)"
   ]
  },
  {
   "cell_type": "markdown",
   "metadata": {},
   "source": [
    "Just to confirm, this dataset should have 2574 features:"
   ]
  },
  {
   "cell_type": "code",
   "execution_count": 3,
   "metadata": {},
   "outputs": [
    {
     "data": {
      "text/plain": [
       "(414, 2574)"
      ]
     },
     "execution_count": 3,
     "metadata": {},
     "output_type": "execute_result"
    }
   ],
   "source": [
    "# Display item_data's shape\n",
    "df.shape"
   ]
  },
  {
   "cell_type": "markdown",
   "metadata": {},
   "source": [
    "<span id=\"oval-blob\"></span>\n",
    "# 1. Toy example: oval blob\n",
    "\n",
    "PCA is an elegant technique that's very practical, but it can be a bit hard to try it on our larger dataset right away.\n",
    "\n",
    "Instead, let's first use one last toy example to break down the intuition behind PCA.\n",
    "\n",
    "<br>\n",
    "**First, we'll create an \"oval blob\" synthetic dataset.**\n",
    "* Instead of both input features and a target variable, we'll only have 2 input features.\n",
    "* $x_1$ will be random samples from a normal distribution.\n",
    "* $x_2$ will be random samples from a normal distribution **plus $x_1$**."
   ]
  },
  {
   "cell_type": "code",
   "execution_count": 4,
   "metadata": {},
   "outputs": [],
   "source": [
    "# Set random seed\n",
    "np.random.seed(101)\n",
    "\n",
    "# Create first feature: x1\n",
    "x1 = np.random.normal(0, 1, 100)\n",
    "\n",
    "# Create second feature: x2\n",
    "x2 = x1 + np.random.normal(0, 1, 100)"
   ]
  },
  {
   "cell_type": "markdown",
   "metadata": {},
   "source": [
    "**Let's stack them together to form <code style=\"color:steelblue\">X</code>, our input feature matrix.**\n",
    "* We'll skip putting them in a Pandas DataFrame.\n",
    "* Instead, we'll just stack them together as two separate columns in a matrix."
   ]
  },
  {
   "cell_type": "code",
   "execution_count": 5,
   "metadata": {
    "scrolled": true
   },
   "outputs": [
    {
     "data": {
      "text/plain": [
       "(100, 2)"
      ]
     },
     "execution_count": 5,
     "metadata": {},
     "output_type": "execute_result"
    }
   ],
   "source": [
    "# Stack together as columns\n",
    "X = np.stack([x1, x2], axis=1)\n",
    "\n",
    "# Print shape of X\n",
    "X.shape"
   ]
  },
  {
   "cell_type": "markdown",
   "metadata": {},
   "source": [
    "**Create a scaled version of your feature matrix and name it <code style=\"color:steelblue\">X_scaled</code>.**\n",
    "* You'll want to use <code style=\"color:steelblue\">StandardScaler</code>.\n",
    "* **Tip:** To fit and apply a transformation in one line of code, you can use the <code style=\"color:steelblue\">.fit_transform()</code> function.\n",
    "* Then, display the first 5 rows. \n",
    "    * You can't use <code style=\"color:steelblue\">.head()</code> because it's not a dataframe.\n",
    "    * You must **index/slice the array** instead."
   ]
  },
  {
   "cell_type": "code",
   "execution_count": 6,
   "metadata": {},
   "outputs": [
    {
     "data": {
      "text/plain": [
       "array([[ 2.45737416,  2.76968241],\n",
       "       [ 0.44665735, -0.38363275],\n",
       "       [ 0.71733989, -0.37695455],\n",
       "       [ 0.3264168 , -0.60579169],\n",
       "       [ 0.46889068,  0.39146426]])"
      ]
     },
     "execution_count": 6,
     "metadata": {},
     "output_type": "execute_result"
    }
   ],
   "source": [
    "# Initialize instance of StandardScaler\n",
    "scaler = StandardScaler()\n",
    "\n",
    "# Fit and transform X\n",
    "X_scaled = scaler.fit_transform(X)\n",
    "\n",
    "# Display first 5 rows of X_scaled\n",
    "X_scaled[:5]"
   ]
  },
  {
   "cell_type": "markdown",
   "metadata": {},
   "source": [
    "**Plot a scatterplot of the scaled $x_1$ against the scaled $x_2$.**\n",
    "* Label your axes as <code style=\"color:crimson\">x1 (scaled)</code> and <code style=\"color:crimson\">x2 (scaled)</code>.\n",
    "* **Tip:** Call <code style=\"color:steelblue\">plt.axis('equal')</code> after your scatterplot to put your plot's axes on the same scale.\n",
    "* We have a recommended plot below. See the Answer Key for how to create it."
   ]
  },
  {
   "cell_type": "code",
   "execution_count": 7,
   "metadata": {},
   "outputs": [
    {
     "data": {
      "image/png": "[encoded data removed]",
      "text/plain": [
       "<matplotlib.figure.Figure at 0x1850d3aa6a0>"
      ]
     },
     "metadata": {},
     "output_type": "display_data"
    }
   ],
   "source": [
    "# Plot scatterplot of scaled x1 against scaled x2\n",
    "plt.figure(figsize=(9,9))\n",
    "plt.scatter(X_scaled[:, 0], X_scaled[:, 1])\n",
    "plt.grid(True)\n",
    "\n",
    "# Put plot axes on the same scale\n",
    "plt.axis('equal')\n",
    "\n",
    "# Label axes\n",
    "plt.xlabel('x1 (scaled)')\n",
    "plt.ylabel('x2 (scaled)')\n",
    "\n",
    "# Clear text residue\n",
    "plt.show()"
   ]
  },
  {
   "cell_type": "markdown",
   "metadata": {},
   "source": [
    "<p style=\"text-align:center; margin: 40px 0 40px 0; font-weight:bold\">\n",
    "<a href=\"#toc\">Back to Contents</a>\n",
    "</p>"
   ]
  },
  {
   "cell_type": "markdown",
   "metadata": {},
   "source": [
    "<span id=\"components\"></span>\n",
    "# 2. Principal components\n",
    "\n",
    "As it turns out, this type of distribution is very helpful for visualizing the mechanics behind PCA.\n",
    "\n",
    "<br>\n",
    "**First, add the following import line to your library imports above. Then, re-run that code cell.**\n",
    "\n",
    "<pre style=\"color:steelblue\">\n",
    "from sklearn.decomposition import PCA\n",
    "</pre>\n",
    "\n",
    "<br>\n",
    "**Next, we can initialize an instance of the PCA transformation.**\n",
    "* This is just as we did for the StandardScaler transformation. \n",
    "* Then, we can fit the instance with just one line of code."
   ]
  },
  {
   "cell_type": "code",
   "execution_count": 8,
   "metadata": {},
   "outputs": [
    {
     "data": {
      "text/plain": [
       "PCA(copy=True, iterated_power='auto', n_components=None, random_state=None,\n",
       "  svd_solver='auto', tol=0.0, whiten=False)"
      ]
     },
     "execution_count": 8,
     "metadata": {},
     "output_type": "execute_result"
    }
   ],
   "source": [
    "# Initialize instance of PCA transformation\n",
    "pca = PCA()\n",
    "\n",
    "# Fit the instance\n",
    "pca.fit(X_scaled)"
   ]
  },
  {
   "cell_type": "markdown",
   "metadata": {},
   "source": [
    "**Let's display the principal components.**"
   ]
  },
  {
   "cell_type": "code",
   "execution_count": 9,
   "metadata": {
    "scrolled": true
   },
   "outputs": [
    {
     "data": {
      "text/plain": [
       "array([[ 0.70710678,  0.70710678],\n",
       "       [-0.70710678,  0.70710678]])"
      ]
     },
     "execution_count": 9,
     "metadata": {},
     "output_type": "execute_result"
    }
   ],
   "source": [
    "# Display principal components\n",
    "pca.components_"
   ]
  },
  {
   "cell_type": "markdown",
   "metadata": {},
   "source": [
    "**Next, let's overlay the principal components on our oval blob.**\n",
    "* We'll make the oval blob semi-transparent so we can see the principal components more easily.\n",
    "* For clarity, we'll plot the first principal component in **black**, and we'll make it twice as long.\n",
    "* We'll plot the first principal component in <strong style=\"color:red\">red</strong>."
   ]
  },
  {
   "cell_type": "code",
   "execution_count": 10,
   "metadata": {},
   "outputs": [
    {
     "data": {
      "image/png": "[encoded data removed]",
      "text/plain": [
       "<matplotlib.figure.Figure at 0x1850d6cf390>"
      ]
     },
     "metadata": {},
     "output_type": "display_data"
    }
   ],
   "source": [
    "# Plot scaled dataset and make it partially transparent\n",
    "plt.figure(figsize=(9,9))\n",
    "plt.scatter(X_scaled[:, 0], X_scaled[:, 1], alpha=0.3)\n",
    "plt.grid(True)\n",
    "\n",
    "# Plot first principal component in black\n",
    "plt.plot([0, 2 * pca.components_[0, 0]], [0, 2 * pca.components_[0, 1]], 'k')\n",
    "\n",
    "# Plot second principal component in red\n",
    "plt.plot([0, pca.components_[1, 0]], [0, pca.components_[1, 1]], 'r')\n",
    "\n",
    "# Set axes\n",
    "plt.axis('equal')\n",
    "plt.xlabel('x1 (scaled)')\n",
    "plt.xlabel('x2 (scaled)')\n",
    "\n",
    "# Clear text residue\n",
    "plt.show()"
   ]
  },
  {
   "cell_type": "markdown",
   "metadata": {},
   "source": [
    "**Finally, we can transform our original features using the fitted PCA instance.**\n",
    "* Remember, PCA generates new features that **replace** the original ones.\n",
    "* We'll name these new features <code style=\"color:crimson\">PC</code> (short for \"principal component\") to indicate that they are generated from PCA."
   ]
  },
  {
   "cell_type": "code",
   "execution_count": 11,
   "metadata": {},
   "outputs": [],
   "source": [
    "# Generate new features\n",
    "PC = pca.transform(X_scaled)"
   ]
  },
  {
   "cell_type": "code",
   "execution_count": 14,
   "metadata": {},
   "outputs": [
    {
     "data": {
      "image/png": "[encoded data removed]",
      "text/plain": [
       "<matplotlib.figure.Figure at 0x1850da68780>"
      ]
     },
     "metadata": {},
     "output_type": "display_data"
    }
   ],
   "source": [
    "# Plot transformed dataset\n",
    "plt.scatter(PC[:,0], PC[:,1], alpha=0.3, color='g')\n",
    "\n",
    "# Plot first principal component in black\n",
    "plt.plot([0, 2], [0, 0], 'k')\n",
    "\n",
    "# Plot second principal component in red\n",
    "plt.plot([0, 0], [1, 0], 'r')\n",
    "\n",
    "# Set axes\n",
    "plt.axis('equal')\n",
    "plt.xlabel('PC1')\n",
    "plt.ylabel('PC2')\n",
    "\n",
    "# Clear text residue\n",
    "plt.show()"
   ]
  },
  {
   "cell_type": "markdown",
   "metadata": {},
   "source": [
    "<p style=\"text-align:center; margin: 40px 0 40px 0; font-weight:bold\">\n",
    "<a href=\"#toc\">Back to Contents</a>\n",
    "</p>"
   ]
  },
  {
   "cell_type": "markdown",
   "metadata": {},
   "source": [
    "<span id=\"reduction\"></span>\n",
    "# 3. Dimensionality reduction\n",
    "\n",
    "Here's where dimensionality reduction comes into play. You can just keep some number of the \"best\" components, a.k.a. the ones that explain the most variance.\n",
    "\n",
    "<br>\n",
    "**First, display the \"explained variance\" ratio of each component.**"
   ]
  },
  {
   "cell_type": "code",
   "execution_count": 23,
   "metadata": {},
   "outputs": [
    {
     "data": {
      "text/plain": [
       "array([0.86915841, 0.13084159])"
      ]
     },
     "execution_count": 23,
     "metadata": {},
     "output_type": "execute_result"
    }
   ],
   "source": [
    "# Display explained variance ratio\n",
    "pca.explained_variance_ratio_"
   ]
  },
  {
   "cell_type": "markdown",
   "metadata": {},
   "source": [
    "**To keep only 1 component, we can simply initialize and fit another PCA transformation.**\n",
    "* This time, we'll simply pass the argument <code style=\"color:steelblue\">n_components=1</code>."
   ]
  },
  {
   "cell_type": "code",
   "execution_count": 24,
   "metadata": {},
   "outputs": [
    {
     "data": {
      "text/plain": [
       "PCA(copy=True, iterated_power='auto', n_components=1, random_state=None,\n",
       "  svd_solver='auto', tol=0.0, whiten=False)"
      ]
     },
     "execution_count": 24,
     "metadata": {},
     "output_type": "execute_result"
    }
   ],
   "source": [
    "# Initialize and fit a PCA transformation, only keeping 1 component\n",
    "pca = PCA(n_components=1)\n",
    "pca.fit(X_scaled)"
   ]
  },
  {
   "cell_type": "code",
   "execution_count": 25,
   "metadata": {},
   "outputs": [
    {
     "data": {
      "text/plain": [
       "array([[0.70710678, 0.70710678]])"
      ]
     },
     "execution_count": 25,
     "metadata": {},
     "output_type": "execute_result"
    }
   ],
   "source": [
    "# Display principal components\n",
    "pca.components_"
   ]
  },
  {
   "cell_type": "code",
   "execution_count": 26,
   "metadata": {},
   "outputs": [
    {
     "data": {
      "text/plain": [
       "(100, 1)"
      ]
     },
     "execution_count": 26,
     "metadata": {},
     "output_type": "execute_result"
    }
   ],
   "source": [
    "# Generate new features\n",
    "PC = pca.transform(X_scaled)\n",
    "PC.shape"
   ]
  },
  {
   "cell_type": "code",
   "execution_count": 38,
   "metadata": {},
   "outputs": [
    {
     "data": {
      "image/png": "[encoded data removed]",
      "text/plain": [
       "<matplotlib.figure.Figure at 0x1850ef1c7b8>"
      ]
     },
     "metadata": {},
     "output_type": "display_data"
    }
   ],
   "source": [
    "# Plot transformed dataset\n",
    "plt.figure(figsize=(10, 10))\n",
    "plt.grid(True)\n",
    "plt.scatter(PC[:, 0], len(PC)*[0], alpha=0.5, color='g')\n",
    "\n",
    "# Plot first principal component in black\n",
    "plt.plot([0, 2], [0, 0], 'k')\n",
    "\n",
    "# Set axes\n",
    "plt.axis('equal')\n",
    "plt.xlabel('PC1')\n",
    "\n",
    "# Clear text residue\n",
    "plt.show()"
   ]
  },
  {
   "cell_type": "markdown",
   "metadata": {},
   "source": [
    "<p style=\"text-align:center; margin: 40px 0 40px 0; font-weight:bold\">\n",
    "<a href=\"#toc\">Back to Contents</a>\n",
    "</p>"
   ]
  },
  {
   "cell_type": "markdown",
   "metadata": {},
   "source": [
    "<span id=\"item-data\"></span>\n",
    "# 4. Item data PCA\n",
    "\n",
    "Now let's get back to our project.\n",
    "\n",
    "<br>\n",
    "**First, scale <code style=\"color:crimson\">item_data</code>, which you imported at the beginning of this module.**\n",
    "* Name the scaled dataset <code style=\"color:crimson\">item_data_scaled</code>.\n",
    "* Then, display the first 5 rows. \n",
    "    * You can't use <code style=\"color:steelblue\">.head()</code> because it's not a dataframe.\n",
    "    * You must **index/slice the array** instead."
   ]
  },
  {
   "cell_type": "code",
   "execution_count": 41,
   "metadata": {},
   "outputs": [
    {
     "data": {
      "text/plain": [
       "array([[-0.13303802, -0.04920678, -0.1119152 , ..., -0.10482848,\n",
       "        -0.15568183, -0.68068072],\n",
       "       [-0.13303802, -0.04920678, -0.1119152 , ..., -0.10482848,\n",
       "        -0.15568183,  0.38776219],\n",
       "       [-0.13303802, -0.04920678, -0.1119152 , ..., -0.10482848,\n",
       "        -0.15568183, -0.41356999],\n",
       "       [-0.13303802, -0.04920678, -0.1119152 , ..., -0.10482848,\n",
       "        -0.15568183, -0.41356999],\n",
       "       [-0.13303802, -0.04920678, -0.1119152 , ..., -0.10482848,\n",
       "         5.53128397,  0.65487292]])"
      ]
     },
     "execution_count": 41,
     "metadata": {},
     "output_type": "execute_result"
    }
   ],
   "source": [
    "# Initialize instance of StandardScaler\n",
    "scaler = StandardScaler()\n",
    "\n",
    "# Fit and transform item_data\n",
    "item_data_scaled = scaler.fit_transform(df)\n",
    "\n",
    "# Display first 5 rows of item_data_scaled\n",
    "item_data_scaled[:5]"
   ]
  },
  {
   "cell_type": "markdown",
   "metadata": {},
   "source": [
    "**Next, initialize and fit an instance of the PCA transformation.**\n",
    "* Keep all of the components for now (just don't pass in any argument)."
   ]
  },
  {
   "cell_type": "code",
   "execution_count": 44,
   "metadata": {},
   "outputs": [
    {
     "data": {
      "text/plain": [
       "PCA(copy=True, iterated_power='auto', n_components=None, random_state=None,\n",
       "  svd_solver='auto', tol=0.0, whiten=False)"
      ]
     },
     "execution_count": 44,
     "metadata": {},
     "output_type": "execute_result"
    }
   ],
   "source": [
    "# Initialize and fit a PCA transformation\n",
    "pca = PCA()\n",
    "pca.fit(item_data_scaled)"
   ]
  },
  {
   "cell_type": "markdown",
   "metadata": {},
   "source": [
    "**Finally, generate new \"principal component features\" from <code style=\"color:crimson\">item_data_scaled</code>.**\n",
    "* Name the new array <code style=\"color:crimson\">PC_items</code>.\n",
    "* Then, display the first 5 rows."
   ]
  },
  {
   "cell_type": "code",
   "execution_count": 45,
   "metadata": {},
   "outputs": [
    {
     "data": {
      "text/plain": [
       "array([[ 5.87614052e+00,  4.82891689e+00, -4.95545069e-01, ...,\n",
       "        -6.62646278e-04, -4.43629806e-05,  3.41393580e-15],\n",
       "       [-4.21983747e+00,  1.22621722e+00, -1.88191211e+00, ...,\n",
       "        -2.11471782e-04, -2.69154340e-04, -3.15372728e-15],\n",
       "       [-1.26084676e+00,  2.38766371e+00, -7.31483440e-02, ...,\n",
       "         2.57750179e-04, -2.05682324e-04, -6.81746326e-16],\n",
       "       [-4.92931983e+00, -7.14858724e-01, -1.58093026e+00, ...,\n",
       "        -1.98603886e-03,  9.92316312e-05, -1.44155521e-15],\n",
       "       [-2.05311348e+00,  2.11095022e+00,  1.84807021e-01, ...,\n",
       "        -3.43415269e-04, -1.32981672e-04,  4.44089210e-15]])"
      ]
     },
     "execution_count": 45,
     "metadata": {},
     "output_type": "execute_result"
    }
   ],
   "source": [
    "# Generate new features\n",
    "PC_items = pca.transform(item_data_scaled)\n",
    "\n",
    "# Display first 5 rows\n",
    "PC_items[:5]"
   ]
  },
  {
   "cell_type": "markdown",
   "metadata": {},
   "source": [
    "<p style=\"text-align:center; margin: 40px 0 40px 0; font-weight:bold\">\n",
    "<a href=\"#toc\">Back to Contents</a>\n",
    "</p>"
   ]
  },
  {
   "cell_type": "markdown",
   "metadata": {},
   "source": [
    "<span id=\"explained-variance\"></span>\n",
    "# 5. Explained variance\n",
    "\n",
    "Earlier, we already saw how to display the **explained variance ratio** for each of the principal components.\n",
    "\n",
    "<br>\n",
    "**It's very helpful to calculate and plot the <u>cumulative</u> explained variance.**\n",
    "* This will tell us the total amount of variance we'd capture if we kept up to the n-th component.\n",
    "* First, we'll use <code style=\"color:steelblue\">np.cumsum()</code> to calculate the cumulative explained variance.\n",
    "* Then, we'll plot it so we can see how many $PC$ features we'd need to keep in order to capture most of the original variance."
   ]
  },
  {
   "cell_type": "code",
   "execution_count": 54,
   "metadata": {},
   "outputs": [
    {
     "data": {
      "image/png": "[encoded data removed]",
      "text/plain": [
       "<matplotlib.figure.Figure at 0x1850dd1e470>"
      ]
     },
     "metadata": {},
     "output_type": "display_data"
    }
   ],
   "source": [
    "# Cumulative explained variance\n",
    "cumulative_explained_variance = np.cumsum(pca.explained_variance_ratio_)\n",
    "\n",
    "# Plot cumulative explained variance\n",
    "plt.figure(figsize=(9, 6))\n",
    "plt.plot(range(len(cumulative_explained_variance)), cumulative_explained_variance)\n",
    "plt.xticks(np.arange(0, 500, 50))\n",
    "plt.grid(True)\n",
    "plt.show()"
   ]
  },
  {
   "cell_type": "code",
   "execution_count": 61,
   "metadata": {},
   "outputs": [
    {
     "data": {
      "text/plain": [
       "0.7955069032205403"
      ]
     },
     "execution_count": 61,
     "metadata": {},
     "output_type": "execute_result"
    }
   ],
   "source": [
    "# How much variance we'd capture with the first 125 components\n",
    "# you can look at the plot, no need to find indices - unless you have no plots\n",
    "cumulative_explained_variance[124] "
   ]
  },
  {
   "cell_type": "markdown",
   "metadata": {},
   "source": [
    "**Initialize and fit another PCA transformation.**\n",
    "* This time, only keep 125 components.\n",
    "* Generate the principal component features from the fitted instance and name the new matrix <code style=\"color:crimson\">PC_items</code>.\n",
    "* Then, display the shape of <code style=\"color:crimson\">PC_items</code> to confirm it only has 125 features."
   ]
  },
  {
   "cell_type": "code",
   "execution_count": 62,
   "metadata": {},
   "outputs": [
    {
     "data": {
      "text/plain": [
       "(414, 125)"
      ]
     },
     "execution_count": 62,
     "metadata": {},
     "output_type": "execute_result"
    }
   ],
   "source": [
    "# Initialize PCA transformation, only keeping 125 components\n",
    "# only take first 125 components, because they have the bigger variance \n",
    "# (check the AOC between first 80% records and those remaining) :)\n",
    "pca = PCA(n_components=125)\n",
    "\n",
    "# Fit and transform item_data_scaled\n",
    "PC_items = pca.fit_transform(item_data_scaled)\n",
    "\n",
    "# Display shape of PC_items\n",
    "PC_items.shape"
   ]
  },
  {
   "cell_type": "markdown",
   "metadata": {},
   "source": [
    "**Next, for convenience, let's put <code style=\"color:crimson\">PC_items</code> into a new dataframe.**\n",
    "* We'll also name the columns and update its index to be the same as the orginal <code style=\"color:crimson\">item_data</code>'s index."
   ]
  },
  {
   "cell_type": "code",
   "execution_count": 67,
   "metadata": {},
   "outputs": [
    {
     "data": {
      "text/html": [
       "<div>\n",
       "<style scoped>\n",
       "    .dataframe tbody tr th:only-of-type {\n",
       "        vertical-align: middle;\n",
       "    }\n",
       "\n",
       "    .dataframe tbody tr th {\n",
       "        vertical-align: top;\n",
       "    }\n",
       "\n",
       "    .dataframe thead th {\n",
       "        text-align: right;\n",
       "    }\n",
       "</style>\n",
       "<table border=\"1\" class=\"dataframe\">\n",
       "  <thead>\n",
       "    <tr style=\"text-align: right;\">\n",
       "      <th></th>\n",
       "      <th>PC1</th>\n",
       "      <th>PC2</th>\n",
       "      <th>PC3</th>\n",
       "      <th>PC4</th>\n",
       "      <th>PC5</th>\n",
       "      <th>PC6</th>\n",
       "      <th>PC7</th>\n",
       "      <th>PC8</th>\n",
       "      <th>PC9</th>\n",
       "      <th>PC10</th>\n",
       "      <th>...</th>\n",
       "      <th>PC116</th>\n",
       "      <th>PC117</th>\n",
       "      <th>PC118</th>\n",
       "      <th>PC119</th>\n",
       "      <th>PC120</th>\n",
       "      <th>PC121</th>\n",
       "      <th>PC122</th>\n",
       "      <th>PC123</th>\n",
       "      <th>PC124</th>\n",
       "      <th>PC125</th>\n",
       "    </tr>\n",
       "    <tr>\n",
       "      <th>CustomerID</th>\n",
       "      <th></th>\n",
       "      <th></th>\n",
       "      <th></th>\n",
       "      <th></th>\n",
       "      <th></th>\n",
       "      <th></th>\n",
       "      <th></th>\n",
       "      <th></th>\n",
       "      <th></th>\n",
       "      <th></th>\n",
       "      <th></th>\n",
       "      <th></th>\n",
       "      <th></th>\n",
       "      <th></th>\n",
       "      <th></th>\n",
       "      <th></th>\n",
       "      <th></th>\n",
       "      <th></th>\n",
       "      <th></th>\n",
       "      <th></th>\n",
       "      <th></th>\n",
       "    </tr>\n",
       "  </thead>\n",
       "  <tbody>\n",
       "    <tr>\n",
       "      <th>12347</th>\n",
       "      <td>5.876141</td>\n",
       "      <td>4.828892</td>\n",
       "      <td>-0.495543</td>\n",
       "      <td>3.093843</td>\n",
       "      <td>-0.633702</td>\n",
       "      <td>-11.534085</td>\n",
       "      <td>2.161913</td>\n",
       "      <td>7.116797</td>\n",
       "      <td>5.336110</td>\n",
       "      <td>4.424089</td>\n",
       "      <td>...</td>\n",
       "      <td>-0.007766</td>\n",
       "      <td>-0.779199</td>\n",
       "      <td>0.613359</td>\n",
       "      <td>-0.330509</td>\n",
       "      <td>-0.004962</td>\n",
       "      <td>-0.045697</td>\n",
       "      <td>0.148163</td>\n",
       "      <td>-0.061750</td>\n",
       "      <td>-0.198612</td>\n",
       "      <td>-0.269058</td>\n",
       "    </tr>\n",
       "    <tr>\n",
       "      <th>12348</th>\n",
       "      <td>-4.219839</td>\n",
       "      <td>1.226195</td>\n",
       "      <td>-1.881922</td>\n",
       "      <td>-0.174302</td>\n",
       "      <td>0.817768</td>\n",
       "      <td>1.160852</td>\n",
       "      <td>-0.871961</td>\n",
       "      <td>-0.846827</td>\n",
       "      <td>0.460120</td>\n",
       "      <td>0.854323</td>\n",
       "      <td>...</td>\n",
       "      <td>-1.904435</td>\n",
       "      <td>0.075644</td>\n",
       "      <td>-0.955823</td>\n",
       "      <td>1.409611</td>\n",
       "      <td>0.724342</td>\n",
       "      <td>0.464916</td>\n",
       "      <td>1.907702</td>\n",
       "      <td>-1.416770</td>\n",
       "      <td>1.121250</td>\n",
       "      <td>-2.946993</td>\n",
       "    </tr>\n",
       "    <tr>\n",
       "      <th>12349</th>\n",
       "      <td>-1.260838</td>\n",
       "      <td>2.387828</td>\n",
       "      <td>-0.073097</td>\n",
       "      <td>-1.118903</td>\n",
       "      <td>-0.034546</td>\n",
       "      <td>-3.715325</td>\n",
       "      <td>-0.342738</td>\n",
       "      <td>-0.149002</td>\n",
       "      <td>-0.789685</td>\n",
       "      <td>-0.377883</td>\n",
       "      <td>...</td>\n",
       "      <td>4.595645</td>\n",
       "      <td>-4.527504</td>\n",
       "      <td>-2.370799</td>\n",
       "      <td>-3.396166</td>\n",
       "      <td>-3.419379</td>\n",
       "      <td>-1.304617</td>\n",
       "      <td>3.845541</td>\n",
       "      <td>0.807568</td>\n",
       "      <td>-4.652684</td>\n",
       "      <td>2.594639</td>\n",
       "    </tr>\n",
       "    <tr>\n",
       "      <th>12350</th>\n",
       "      <td>-4.929319</td>\n",
       "      <td>-0.714874</td>\n",
       "      <td>-1.581119</td>\n",
       "      <td>-0.469789</td>\n",
       "      <td>-0.116164</td>\n",
       "      <td>0.647736</td>\n",
       "      <td>0.112682</td>\n",
       "      <td>-1.336327</td>\n",
       "      <td>1.547287</td>\n",
       "      <td>-1.190830</td>\n",
       "      <td>...</td>\n",
       "      <td>-1.869817</td>\n",
       "      <td>-0.460085</td>\n",
       "      <td>-1.192275</td>\n",
       "      <td>-0.596812</td>\n",
       "      <td>-0.808693</td>\n",
       "      <td>0.373854</td>\n",
       "      <td>-0.282510</td>\n",
       "      <td>-0.819361</td>\n",
       "      <td>-1.010051</td>\n",
       "      <td>0.363232</td>\n",
       "    </tr>\n",
       "    <tr>\n",
       "      <th>12352</th>\n",
       "      <td>-2.053129</td>\n",
       "      <td>2.110788</td>\n",
       "      <td>0.184844</td>\n",
       "      <td>0.128379</td>\n",
       "      <td>0.087133</td>\n",
       "      <td>-1.943497</td>\n",
       "      <td>2.383475</td>\n",
       "      <td>0.898283</td>\n",
       "      <td>-0.672848</td>\n",
       "      <td>0.081181</td>\n",
       "      <td>...</td>\n",
       "      <td>1.695937</td>\n",
       "      <td>8.096258</td>\n",
       "      <td>10.325739</td>\n",
       "      <td>-8.947321</td>\n",
       "      <td>-3.582689</td>\n",
       "      <td>-2.078227</td>\n",
       "      <td>3.346192</td>\n",
       "      <td>5.183793</td>\n",
       "      <td>0.928319</td>\n",
       "      <td>-1.933235</td>\n",
       "    </tr>\n",
       "    <tr>\n",
       "      <th>12353</th>\n",
       "      <td>-6.373811</td>\n",
       "      <td>-0.174423</td>\n",
       "      <td>-0.621240</td>\n",
       "      <td>-0.352693</td>\n",
       "      <td>0.218643</td>\n",
       "      <td>0.783500</td>\n",
       "      <td>-0.251304</td>\n",
       "      <td>-0.151729</td>\n",
       "      <td>0.697116</td>\n",
       "      <td>-0.186360</td>\n",
       "      <td>...</td>\n",
       "      <td>0.147658</td>\n",
       "      <td>-0.035935</td>\n",
       "      <td>-0.220121</td>\n",
       "      <td>-0.089187</td>\n",
       "      <td>-0.158037</td>\n",
       "      <td>-0.005960</td>\n",
       "      <td>0.035205</td>\n",
       "      <td>-0.134681</td>\n",
       "      <td>-0.127925</td>\n",
       "      <td>0.093870</td>\n",
       "    </tr>\n",
       "    <tr>\n",
       "      <th>12354</th>\n",
       "      <td>-2.214764</td>\n",
       "      <td>-1.160907</td>\n",
       "      <td>-0.338153</td>\n",
       "      <td>-0.919857</td>\n",
       "      <td>0.051248</td>\n",
       "      <td>0.837342</td>\n",
       "      <td>-1.113331</td>\n",
       "      <td>-0.998130</td>\n",
       "      <td>-0.568347</td>\n",
       "      <td>0.714147</td>\n",
       "      <td>...</td>\n",
       "      <td>-0.334569</td>\n",
       "      <td>-0.472099</td>\n",
       "      <td>1.034624</td>\n",
       "      <td>-0.137277</td>\n",
       "      <td>0.964419</td>\n",
       "      <td>-0.298490</td>\n",
       "      <td>-0.193470</td>\n",
       "      <td>0.158224</td>\n",
       "      <td>0.882766</td>\n",
       "      <td>0.095065</td>\n",
       "    </tr>\n",
       "    <tr>\n",
       "      <th>12355</th>\n",
       "      <td>-5.801691</td>\n",
       "      <td>-0.031380</td>\n",
       "      <td>-0.499831</td>\n",
       "      <td>0.597616</td>\n",
       "      <td>-0.159788</td>\n",
       "      <td>0.871256</td>\n",
       "      <td>-0.834318</td>\n",
       "      <td>0.621599</td>\n",
       "      <td>1.034642</td>\n",
       "      <td>-0.429645</td>\n",
       "      <td>...</td>\n",
       "      <td>-0.293407</td>\n",
       "      <td>-0.301243</td>\n",
       "      <td>-1.822208</td>\n",
       "      <td>-0.382458</td>\n",
       "      <td>0.450567</td>\n",
       "      <td>-0.027942</td>\n",
       "      <td>-0.776005</td>\n",
       "      <td>0.466221</td>\n",
       "      <td>1.143893</td>\n",
       "      <td>-0.186761</td>\n",
       "    </tr>\n",
       "    <tr>\n",
       "      <th>12356</th>\n",
       "      <td>-3.172041</td>\n",
       "      <td>1.135724</td>\n",
       "      <td>1.142883</td>\n",
       "      <td>-0.334186</td>\n",
       "      <td>-1.516868</td>\n",
       "      <td>1.698924</td>\n",
       "      <td>-1.183612</td>\n",
       "      <td>0.865601</td>\n",
       "      <td>0.184317</td>\n",
       "      <td>0.417764</td>\n",
       "      <td>...</td>\n",
       "      <td>-0.980440</td>\n",
       "      <td>4.181372</td>\n",
       "      <td>0.683882</td>\n",
       "      <td>1.139770</td>\n",
       "      <td>-0.077212</td>\n",
       "      <td>-1.981162</td>\n",
       "      <td>-0.144611</td>\n",
       "      <td>-2.709063</td>\n",
       "      <td>-0.894229</td>\n",
       "      <td>1.640387</td>\n",
       "    </tr>\n",
       "    <tr>\n",
       "      <th>12357</th>\n",
       "      <td>3.270566</td>\n",
       "      <td>4.655616</td>\n",
       "      <td>-1.096710</td>\n",
       "      <td>-3.210368</td>\n",
       "      <td>-5.171245</td>\n",
       "      <td>-3.177263</td>\n",
       "      <td>1.752573</td>\n",
       "      <td>1.433647</td>\n",
       "      <td>0.388248</td>\n",
       "      <td>-8.968874</td>\n",
       "      <td>...</td>\n",
       "      <td>2.061340</td>\n",
       "      <td>-1.546817</td>\n",
       "      <td>0.382650</td>\n",
       "      <td>-2.761282</td>\n",
       "      <td>0.323297</td>\n",
       "      <td>-0.738580</td>\n",
       "      <td>-0.297154</td>\n",
       "      <td>0.499625</td>\n",
       "      <td>0.876253</td>\n",
       "      <td>1.607482</td>\n",
       "    </tr>\n",
       "    <tr>\n",
       "      <th>12358</th>\n",
       "      <td>-5.959676</td>\n",
       "      <td>0.002152</td>\n",
       "      <td>-0.715643</td>\n",
       "      <td>-0.444128</td>\n",
       "      <td>0.136182</td>\n",
       "      <td>0.630192</td>\n",
       "      <td>-0.459299</td>\n",
       "      <td>-0.259833</td>\n",
       "      <td>0.580022</td>\n",
       "      <td>-0.081837</td>\n",
       "      <td>...</td>\n",
       "      <td>0.157282</td>\n",
       "      <td>-0.231046</td>\n",
       "      <td>-0.459079</td>\n",
       "      <td>-0.256766</td>\n",
       "      <td>-0.059280</td>\n",
       "      <td>0.172506</td>\n",
       "      <td>0.234929</td>\n",
       "      <td>-0.647276</td>\n",
       "      <td>-0.581230</td>\n",
       "      <td>-0.071161</td>\n",
       "    </tr>\n",
       "    <tr>\n",
       "      <th>12359</th>\n",
       "      <td>17.200664</td>\n",
       "      <td>17.245157</td>\n",
       "      <td>12.421465</td>\n",
       "      <td>-4.928348</td>\n",
       "      <td>5.011228</td>\n",
       "      <td>-47.432053</td>\n",
       "      <td>1.569052</td>\n",
       "      <td>9.887316</td>\n",
       "      <td>12.689407</td>\n",
       "      <td>7.908525</td>\n",
       "      <td>...</td>\n",
       "      <td>-0.564465</td>\n",
       "      <td>1.148800</td>\n",
       "      <td>-0.108960</td>\n",
       "      <td>0.619926</td>\n",
       "      <td>0.294726</td>\n",
       "      <td>0.285604</td>\n",
       "      <td>0.509644</td>\n",
       "      <td>0.431544</td>\n",
       "      <td>0.359472</td>\n",
       "      <td>0.018304</td>\n",
       "    </tr>\n",
       "    <tr>\n",
       "      <th>12360</th>\n",
       "      <td>3.576286</td>\n",
       "      <td>-5.176180</td>\n",
       "      <td>-1.724582</td>\n",
       "      <td>1.036230</td>\n",
       "      <td>0.018456</td>\n",
       "      <td>2.287201</td>\n",
       "      <td>-1.524072</td>\n",
       "      <td>0.167764</td>\n",
       "      <td>0.082865</td>\n",
       "      <td>0.849299</td>\n",
       "      <td>...</td>\n",
       "      <td>-1.108994</td>\n",
       "      <td>-4.399032</td>\n",
       "      <td>0.943948</td>\n",
       "      <td>6.005134</td>\n",
       "      <td>-3.786204</td>\n",
       "      <td>-6.607004</td>\n",
       "      <td>-8.587812</td>\n",
       "      <td>1.508465</td>\n",
       "      <td>1.448971</td>\n",
       "      <td>-4.867444</td>\n",
       "    </tr>\n",
       "    <tr>\n",
       "      <th>12361</th>\n",
       "      <td>-5.789372</td>\n",
       "      <td>-0.600740</td>\n",
       "      <td>-0.919347</td>\n",
       "      <td>-0.432920</td>\n",
       "      <td>0.369545</td>\n",
       "      <td>0.895223</td>\n",
       "      <td>-0.534774</td>\n",
       "      <td>-0.439136</td>\n",
       "      <td>0.480269</td>\n",
       "      <td>0.063757</td>\n",
       "      <td>...</td>\n",
       "      <td>-0.082730</td>\n",
       "      <td>0.018587</td>\n",
       "      <td>-0.061446</td>\n",
       "      <td>0.114911</td>\n",
       "      <td>0.191086</td>\n",
       "      <td>-0.108268</td>\n",
       "      <td>0.198280</td>\n",
       "      <td>-0.350294</td>\n",
       "      <td>-0.083448</td>\n",
       "      <td>-0.015408</td>\n",
       "    </tr>\n",
       "    <tr>\n",
       "      <th>12362</th>\n",
       "      <td>15.615708</td>\n",
       "      <td>-9.438199</td>\n",
       "      <td>-1.506695</td>\n",
       "      <td>1.768788</td>\n",
       "      <td>2.244036</td>\n",
       "      <td>-2.563544</td>\n",
       "      <td>-1.997458</td>\n",
       "      <td>4.444326</td>\n",
       "      <td>-1.531512</td>\n",
       "      <td>5.769830</td>\n",
       "      <td>...</td>\n",
       "      <td>-0.303913</td>\n",
       "      <td>-0.614687</td>\n",
       "      <td>-0.079547</td>\n",
       "      <td>-0.592763</td>\n",
       "      <td>0.000443</td>\n",
       "      <td>-0.603129</td>\n",
       "      <td>0.711687</td>\n",
       "      <td>1.268864</td>\n",
       "      <td>0.381367</td>\n",
       "      <td>-0.954546</td>\n",
       "    </tr>\n",
       "  </tbody>\n",
       "</table>\n",
       "<p>15 rows × 125 columns</p>\n",
       "</div>"
      ],
      "text/plain": [
       "                  PC1        PC2        PC3       PC4       PC5        PC6  \\\n",
       "CustomerID                                                                   \n",
       "12347        5.876141   4.828892  -0.495543  3.093843 -0.633702 -11.534085   \n",
       "12348       -4.219839   1.226195  -1.881922 -0.174302  0.817768   1.160852   \n",
       "12349       -1.260838   2.387828  -0.073097 -1.118903 -0.034546  -3.715325   \n",
       "12350       -4.929319  -0.714874  -1.581119 -0.469789 -0.116164   0.647736   \n",
       "12352       -2.053129   2.110788   0.184844  0.128379  0.087133  -1.943497   \n",
       "12353       -6.373811  -0.174423  -0.621240 -0.352693  0.218643   0.783500   \n",
       "12354       -2.214764  -1.160907  -0.338153 -0.919857  0.051248   0.837342   \n",
       "12355       -5.801691  -0.031380  -0.499831  0.597616 -0.159788   0.871256   \n",
       "12356       -3.172041   1.135724   1.142883 -0.334186 -1.516868   1.698924   \n",
       "12357        3.270566   4.655616  -1.096710 -3.210368 -5.171245  -3.177263   \n",
       "12358       -5.959676   0.002152  -0.715643 -0.444128  0.136182   0.630192   \n",
       "12359       17.200664  17.245157  12.421465 -4.928348  5.011228 -47.432053   \n",
       "12360        3.576286  -5.176180  -1.724582  1.036230  0.018456   2.287201   \n",
       "12361       -5.789372  -0.600740  -0.919347 -0.432920  0.369545   0.895223   \n",
       "12362       15.615708  -9.438199  -1.506695  1.768788  2.244036  -2.563544   \n",
       "\n",
       "                 PC7       PC8        PC9      PC10    ...        PC116  \\\n",
       "CustomerID                                             ...                \n",
       "12347       2.161913  7.116797   5.336110  4.424089    ...    -0.007766   \n",
       "12348      -0.871961 -0.846827   0.460120  0.854323    ...    -1.904435   \n",
       "12349      -0.342738 -0.149002  -0.789685 -0.377883    ...     4.595645   \n",
       "12350       0.112682 -1.336327   1.547287 -1.190830    ...    -1.869817   \n",
       "12352       2.383475  0.898283  -0.672848  0.081181    ...     1.695937   \n",
       "12353      -0.251304 -0.151729   0.697116 -0.186360    ...     0.147658   \n",
       "12354      -1.113331 -0.998130  -0.568347  0.714147    ...    -0.334569   \n",
       "12355      -0.834318  0.621599   1.034642 -0.429645    ...    -0.293407   \n",
       "12356      -1.183612  0.865601   0.184317  0.417764    ...    -0.980440   \n",
       "12357       1.752573  1.433647   0.388248 -8.968874    ...     2.061340   \n",
       "12358      -0.459299 -0.259833   0.580022 -0.081837    ...     0.157282   \n",
       "12359       1.569052  9.887316  12.689407  7.908525    ...    -0.564465   \n",
       "12360      -1.524072  0.167764   0.082865  0.849299    ...    -1.108994   \n",
       "12361      -0.534774 -0.439136   0.480269  0.063757    ...    -0.082730   \n",
       "12362      -1.997458  4.444326  -1.531512  5.769830    ...    -0.303913   \n",
       "\n",
       "               PC117      PC118     PC119     PC120     PC121     PC122  \\\n",
       "CustomerID                                                                \n",
       "12347      -0.779199   0.613359 -0.330509 -0.004962 -0.045697  0.148163   \n",
       "12348       0.075644  -0.955823  1.409611  0.724342  0.464916  1.907702   \n",
       "12349      -4.527504  -2.370799 -3.396166 -3.419379 -1.304617  3.845541   \n",
       "12350      -0.460085  -1.192275 -0.596812 -0.808693  0.373854 -0.282510   \n",
       "12352       8.096258  10.325739 -8.947321 -3.582689 -2.078227  3.346192   \n",
       "12353      -0.035935  -0.220121 -0.089187 -0.158037 -0.005960  0.035205   \n",
       "12354      -0.472099   1.034624 -0.137277  0.964419 -0.298490 -0.193470   \n",
       "12355      -0.301243  -1.822208 -0.382458  0.450567 -0.027942 -0.776005   \n",
       "12356       4.181372   0.683882  1.139770 -0.077212 -1.981162 -0.144611   \n",
       "12357      -1.546817   0.382650 -2.761282  0.323297 -0.738580 -0.297154   \n",
       "12358      -0.231046  -0.459079 -0.256766 -0.059280  0.172506  0.234929   \n",
       "12359       1.148800  -0.108960  0.619926  0.294726  0.285604  0.509644   \n",
       "12360      -4.399032   0.943948  6.005134 -3.786204 -6.607004 -8.587812   \n",
       "12361       0.018587  -0.061446  0.114911  0.191086 -0.108268  0.198280   \n",
       "12362      -0.614687  -0.079547 -0.592763  0.000443 -0.603129  0.711687   \n",
       "\n",
       "               PC123     PC124     PC125  \n",
       "CustomerID                                \n",
       "12347      -0.061750 -0.198612 -0.269058  \n",
       "12348      -1.416770  1.121250 -2.946993  \n",
       "12349       0.807568 -4.652684  2.594639  \n",
       "12350      -0.819361 -1.010051  0.363232  \n",
       "12352       5.183793  0.928319 -1.933235  \n",
       "12353      -0.134681 -0.127925  0.093870  \n",
       "12354       0.158224  0.882766  0.095065  \n",
       "12355       0.466221  1.143893 -0.186761  \n",
       "12356      -2.709063 -0.894229  1.640387  \n",
       "12357       0.499625  0.876253  1.607482  \n",
       "12358      -0.647276 -0.581230 -0.071161  \n",
       "12359       0.431544  0.359472  0.018304  \n",
       "12360       1.508465  1.448971 -4.867444  \n",
       "12361      -0.350294 -0.083448 -0.015408  \n",
       "12362       1.268864  0.381367 -0.954546  \n",
       "\n",
       "[15 rows x 125 columns]"
      ]
     },
     "execution_count": 67,
     "metadata": {},
     "output_type": "execute_result"
    }
   ],
   "source": [
    "# Put PC_items into a dataframe\n",
    "items_pca = pd.DataFrame(PC_items)\n",
    "\n",
    "# Name the columns\n",
    "items_pca.columns = ['PC{}'.format(i + 1) for i in range(PC_items.shape[1])]\n",
    "\n",
    "# Update its index\n",
    "items_pca.index = df.index\n",
    "\n",
    "# Display first 5 rows\n",
    "items_pca.head(15)"
   ]
  },
  {
   "cell_type": "markdown",
   "metadata": {},
   "source": [
    "**Finally, save this item dataframe with PCA features as <code style=\"color:crimson\">'pca_item_data.csv'</code>.**\n",
    "* In <span style=\"color:royalblue\">Module 4</span>, we'll compare the clusters made from using these features against those in <code style=\"color:crimson\">'threshold_item_data.csv'</code>.\n",
    "* Do **not** set <code style=\"color:steelblue\">index=None</code> because we want to keep the CustomerID's as the index."
   ]
  },
  {
   "cell_type": "code",
   "execution_count": 69,
   "metadata": {},
   "outputs": [],
   "source": [
    "# Save pca_item_data.csv\n",
    "items_pca.to_csv('project_files/pca_item_data.csv')"
   ]
  },
  {
   "cell_type": "markdown",
   "metadata": {},
   "source": [
    "<p style=\"text-align:center; margin: 40px 0 40px 0; font-weight:bold\">\n",
    "<a href=\"#toc\">Back to Contents</a>\n",
    "</p>"
   ]
  },
  {
   "cell_type": "markdown",
   "metadata": {},
   "source": [
    "<br>\n",
    "## Next Steps\n",
    "\n",
    "Congratulations for making it through Project 4's Principal Component Analysis!\n",
    "\n",
    "As a reminder, here are a few things you did in this module:\n",
    "* You saw how PCA works on an oval blob.\n",
    "* You contrasted plots of the original features against plots of the principal component features.\n",
    "* You learned how to intepret cumulative explained variance.\n",
    "* And you reduced the dimensionality of the item dataset using PCA.\n",
    "\n",
    "In the next module, <span style=\"color:royalblue\">Module 4: Cluster Analysis</span>, we'll see how different feature sets lead to different clusters. We'll apply K-Means clustering to the analytical base table, the threshold item features, and the PCA item features.\n",
    "\n",
    "<p style=\"text-align:center; margin: 40px 0 40px 0; font-weight:bold\">\n",
    "<a href=\"#toc\">Back to Contents</a>\n",
    "</p>"
   ]
  }
 ],
 "metadata": {
  "kernelspec": {
   "display_name": "Python 3",
   "language": "python",
   "name": "python3"
  },
  "language_info": {
   "codemirror_mode": {
    "name": "ipython",
    "version": 3
   },
   "file_extension": ".py",
   "mimetype": "text/x-python",
   "name": "python",
   "nbconvert_exporter": "python",
   "pygments_lexer": "ipython3",
   "version": "3.6.4"
  }
 },
 "nbformat": 4,
 "nbformat_minor": 1
}
